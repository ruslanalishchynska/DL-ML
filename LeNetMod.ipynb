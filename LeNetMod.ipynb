{
  "nbformat": 4,
  "nbformat_minor": 0,
  "metadata": {
    "colab": {
      "name": "LeNetMod.ipynb",
      "provenance": [],
      "collapsed_sections": [],
      "machine_shape": "hm",
      "include_colab_link": true
    },
    "kernelspec": {
      "name": "python3",
      "display_name": "Python 3"
    },
    "accelerator": "GPU"
  },
  "cells": [
    {
      "cell_type": "markdown",
      "metadata": {
        "id": "view-in-github",
        "colab_type": "text"
      },
      "source": [
        "<a href=\"https://colab.research.google.com/github/ruslanalishchynska/DL-ML/blob/master/LeNetMod.ipynb\" target=\"_parent\"><img src=\"https://colab.research.google.com/assets/colab-badge.svg\" alt=\"Open In Colab\"/></a>"
      ]
    },
    {
      "cell_type": "code",
      "metadata": {
        "id": "Idhz59smIpvZ",
        "colab_type": "code",
        "colab": {
          "base_uri": "https://localhost:8080/",
          "height": 35
        },
        "outputId": "ca785833-a832-4d13-ffe6-9e4c2966bf65"
      },
      "source": [
        "import torch\n",
        "import numpy as np\n",
        "import random\n",
        "\n",
        "random.seed(0)\n",
        "np.random.seed(0)\n",
        "torch.manual_seed(0)"
      ],
      "execution_count": 11,
      "outputs": [
        {
          "output_type": "execute_result",
          "data": {
            "text/plain": [
              "<torch._C.Generator at 0x7f60ffa41d70>"
            ]
          },
          "metadata": {
            "tags": []
          },
          "execution_count": 11
        }
      ]
    },
    {
      "cell_type": "code",
      "metadata": {
        "id": "jx1bOJinJXAZ",
        "colab_type": "code",
        "colab": {}
      },
      "source": [
        "import torchvision.datasets"
      ],
      "execution_count": 0,
      "outputs": []
    },
    {
      "cell_type": "code",
      "metadata": {
        "id": "yJ56-GhUJcXS",
        "colab_type": "code",
        "colab": {}
      },
      "source": [
        "MNIST_train = torchvision.datasets.MNIST('./', download = True, train = True)\n",
        "MNIST_test = torchvision.datasets.MNIST('./', download = True, train = False)"
      ],
      "execution_count": 0,
      "outputs": []
    },
    {
      "cell_type": "code",
      "metadata": {
        "id": "TZ6EhJNcJ52G",
        "colab_type": "code",
        "colab": {
          "base_uri": "https://localhost:8080/",
          "height": 156
        },
        "outputId": "c1dbe650-0a91-45c2-cfa2-483012c34a49"
      },
      "source": [
        "x_train = MNIST_train.train_data\n",
        "y_train = MNIST_train.train_labels\n",
        "x_test = MNIST_test.test_data\n",
        "y_test = MNIST_test.test_labels"
      ],
      "execution_count": 14,
      "outputs": [
        {
          "output_type": "stream",
          "text": [
            "/usr/local/lib/python3.6/dist-packages/torchvision/datasets/mnist.py:53: UserWarning: train_data has been renamed data\n",
            "  warnings.warn(\"train_data has been renamed data\")\n",
            "/usr/local/lib/python3.6/dist-packages/torchvision/datasets/mnist.py:43: UserWarning: train_labels has been renamed targets\n",
            "  warnings.warn(\"train_labels has been renamed targets\")\n",
            "/usr/local/lib/python3.6/dist-packages/torchvision/datasets/mnist.py:58: UserWarning: test_data has been renamed data\n",
            "  warnings.warn(\"test_data has been renamed data\")\n",
            "/usr/local/lib/python3.6/dist-packages/torchvision/datasets/mnist.py:48: UserWarning: test_labels has been renamed targets\n",
            "  warnings.warn(\"test_labels has been renamed targets\")\n"
          ],
          "name": "stderr"
        }
      ]
    },
    {
      "cell_type": "code",
      "metadata": {
        "id": "8W-_MYX_JwYb",
        "colab_type": "code",
        "colab": {}
      },
      "source": [
        "x_train = x_train.unsqueeze(1).float() #inserts singleton dim at position given as parameter\n",
        "x_test = x_test.unsqueeze(1).float()"
      ],
      "execution_count": 0,
      "outputs": []
    },
    {
      "cell_type": "code",
      "metadata": {
        "id": "W6Cj0wdbhF2C",
        "colab_type": "code",
        "colab": {
          "base_uri": "https://localhost:8080/",
          "height": 35
        },
        "outputId": "c6fd131e-5e1f-4d97-8338-e067708f9a7d"
      },
      "source": [
        "x_train.shape"
      ],
      "execution_count": 16,
      "outputs": [
        {
          "output_type": "execute_result",
          "data": {
            "text/plain": [
              "torch.Size([60000, 1, 28, 28])"
            ]
          },
          "metadata": {
            "tags": []
          },
          "execution_count": 16
        }
      ]
    },
    {
      "cell_type": "code",
      "metadata": {
        "id": "xzdTMy_bhnMq",
        "colab_type": "code",
        "colab": {}
      },
      "source": [
        "class LeNetMod(torch.nn.Module):\n",
        "  def __init__(self):\n",
        "    super(LeNetMod, self).__init__()\n",
        "\n",
        "    self.conv1 = torch.nn.Conv2d(in_channels=1, out_channels=6, kernel_size=3, padding=1)\n",
        "    self.act1 = torch.nn.ReLU()\n",
        "    self.pool1 = torch.nn.MaxPool2d(kernel_size=2, stride=2)\n",
        "\n",
        "    self.conv2 = torch.nn.Conv2d(in_channels=6, out_channels=16, kernel_size=3, padding=1)\n",
        "    self.act2 = torch.nn.ReLU()\n",
        "    self.pool2 = torch.nn.MaxPool2d(kernel_size=2, stride=2)\n",
        "\n",
        "    self.conv3 = torch.nn.Conv2d(in_channels=16, out_channels=36, kernel_size=3, padding=0)\n",
        "    self.act3 = torch.nn.ReLU()\n",
        "\n",
        "    self.fc1 = torch.nn.Linear(5 * 5 * 36, 150)\n",
        "    self.act4 = torch.nn.ReLU()\n",
        "\n",
        "    self.fc2 = torch.nn.Linear(150, 84)\n",
        "    self.act5 = torch.nn.ReLU()\n",
        "\n",
        "    self.fc3 = torch.nn.Linear(84, 10)\n",
        "\n",
        "  def forward(self, x):\n",
        "    x = self.conv1(x)\n",
        "    x = self.act1(x)\n",
        "    x = self.pool1(x)\n",
        "\n",
        "    x = self.conv2(x)\n",
        "    x = self.act2(x)\n",
        "    x = self.pool2(x)\n",
        "\n",
        "    x = self.conv3(x)\n",
        "    x = self.act3(x)\n",
        "\n",
        "    x = x.view(x.size(0), x.size(1) * x.size(2) * x.size(3))\n",
        "\n",
        "    x = self.fc1(x)\n",
        "    x = self.act4(x)\n",
        "    x = self.fc2(x)\n",
        "    x = self.act5(x)\n",
        "    x = self.fc3(x)\n",
        "\n",
        "    return x\n",
        "\n",
        "lenet_mod = LeNetMod()"
      ],
      "execution_count": 0,
      "outputs": []
    },
    {
      "cell_type": "code",
      "metadata": {
        "id": "UT9VGYytkyEs",
        "colab_type": "code",
        "colab": {}
      },
      "source": [
        "loss = torch.nn.CrossEntropyLoss()\n",
        "optimizer = torch.optim.SGD(lenet_mod.parameters(), lr=0.01, momentum=0.7)"
      ],
      "execution_count": 0,
      "outputs": []
    },
    {
      "cell_type": "code",
      "metadata": {
        "id": "NFqRcm5-lFN_",
        "colab_type": "code",
        "colab": {
          "base_uri": "https://localhost:8080/",
          "height": 416
        },
        "outputId": "18ed5795-b661-4592-d2ea-1d1bbac7be80"
      },
      "source": [
        "batch_size = 200\n",
        "\n",
        "test_accuracy_history = []\n",
        "test_loss_history = []\n",
        "\n",
        "for epoch in range(10000):\n",
        "  order = np.random.permutation(len(x_train))\n",
        "  for start_index in range(0, len(x_train), batch_size):\n",
        "    optimizer.zero_grad()\n",
        "    batch_indexes = order[start_index:start_index+batch_size]\n",
        "\n",
        "    x_batch = x_train[batch_indexes]\n",
        "    y_batch = y_train[batch_indexes]\n",
        "\n",
        "    pred = lenet_mod.forward(x_batch)\n",
        "\n",
        "    loss_value = loss(pred, y_batch)\n",
        "    loss_value.backward()\n",
        "\n",
        "    optimizer.step()\n",
        "\n",
        "  test_pred = lenet_mod.forward(x_test)\n",
        "  test_loss_history.append(loss(test_pred, y_test))\n",
        "\n",
        "  accuracy = (test_pred.argmax(dim=1) == y_test).float().mean()\n",
        "  test_accuracy_history.append(accuracy)\n",
        "\n",
        "  print(accuracy)"
      ],
      "execution_count": 0,
      "outputs": [
        {
          "output_type": "stream",
          "text": [
            "tensor(0.9740)\n",
            "tensor(0.9808)\n",
            "tensor(0.9823)\n",
            "tensor(0.9854)\n",
            "tensor(0.9881)\n",
            "tensor(0.9868)\n",
            "tensor(0.9879)\n",
            "tensor(0.9864)\n",
            "tensor(0.9875)\n",
            "tensor(0.9889)\n",
            "tensor(0.9871)\n",
            "tensor(0.9881)\n",
            "tensor(0.9878)\n",
            "tensor(0.9886)\n",
            "tensor(0.9877)\n",
            "tensor(0.9896)\n",
            "tensor(0.9905)\n",
            "tensor(0.9902)\n",
            "tensor(0.9899)\n",
            "tensor(0.9906)\n",
            "tensor(0.9902)\n",
            "tensor(0.9905)\n",
            "tensor(0.9903)\n"
          ],
          "name": "stdout"
        }
      ]
    }
  ]
}